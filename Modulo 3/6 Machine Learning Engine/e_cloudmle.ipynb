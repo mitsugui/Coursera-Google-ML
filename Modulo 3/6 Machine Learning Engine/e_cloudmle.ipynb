{
 "cells": [
  {
   "cell_type": "markdown",
   "metadata": {
    "deletable": true,
    "editable": true
   },
   "source": [
    "<h1> Scaling up ML using Cloud ML Engine </h1>\n",
    "\n",
    "In this notebook, we take a previously developed TensorFlow model to predict taxifare rides and package it up so that it can be run in Cloud MLE. For now, we'll run this on a small dataset. The model that was developed is rather simplistic, and therefore, the accuracy of the model is not great either.  However, this notebook illustrates *how* to package up a TensorFlow model to run it within Cloud ML. \n",
    "\n",
    "Later in the course, we will look at ways to make a more effective machine learning model."
   ]
  },
  {
   "cell_type": "markdown",
   "metadata": {
    "deletable": true,
    "editable": true
   },
   "source": [
    "<h2> Environment variables for project and bucket </h2>\n",
    "\n",
    "Note that:\n",
    "<ol>\n",
    "<li> Your project id is the *unique* string that identifies your project (not the project name). You can find this from the GCP Console dashboard's Home page.  My dashboard reads:  <b>Project ID:</b> cloud-training-demos </li>\n",
    "<li> Cloud training often involves saving and restoring model files. If you don't have a bucket already, I suggest that you create one from the GCP console (because it will dynamically check whether the bucket name you want is available). A common pattern is to prefix the bucket name by the project id, so that it is unique. Also, for cost reasons, you might want to use a single region bucket. </li>\n",
    "</ol>\n",
    "<b>Change the cell below</b> to reflect your Project ID and bucket name.\n"
   ]
  },
  {
   "cell_type": "code",
   "execution_count": 3,
   "metadata": {
    "collapsed": true,
    "deletable": true,
    "editable": true
   },
   "outputs": [],
   "source": [
    "import os\n",
    "PROJECT = 'qwiklabs-gcp-04527c06d4f6cef3' # REPLACE WITH YOUR PROJECT ID\n",
    "BUCKET = 'qwiklabs-gcp-04527c06d4f6cef3-bucket' # REPLACE WITH YOUR BUCKET NAME\n",
    "REGION = 'us-central1' # REPLACE WITH YOUR BUCKET REGION e.g. us-central1"
   ]
  },
  {
   "cell_type": "code",
   "execution_count": 4,
   "metadata": {
    "collapsed": true,
    "deletable": true,
    "editable": true
   },
   "outputs": [],
   "source": [
    "# for bash\n",
    "os.environ['PROJECT'] = PROJECT\n",
    "os.environ['BUCKET'] = BUCKET\n",
    "os.environ['REGION'] = REGION\n",
    "os.environ['TFVERSION'] = '1.7'  # Tensorflow version"
   ]
  },
  {
   "cell_type": "code",
   "execution_count": 5,
   "metadata": {
    "collapsed": false,
    "deletable": true,
    "editable": true
   },
   "outputs": [
    {
     "name": "stderr",
     "output_type": "stream",
     "text": [
      "Updated property [core/project].\n",
      "Updated property [compute/region].\n",
      "Updated property [core/project].\n",
      "Updated property [compute/region].\n"
     ]
    }
   ],
   "source": [
    "%bash\n",
    "gcloud config set project $PROJECT\n",
    "gcloud config set compute/region $REGION"
   ]
  },
  {
   "cell_type": "markdown",
   "metadata": {
    "deletable": true,
    "editable": true
   },
   "source": [
    "Allow the Cloud ML Engine service account to read/write to the bucket containing training data."
   ]
  },
  {
   "cell_type": "code",
   "execution_count": 6,
   "metadata": {
    "collapsed": false,
    "deletable": true,
    "editable": true
   },
   "outputs": [
    {
     "name": "stdout",
     "output_type": "stream",
     "text": [
      "Authorizing the Cloud ML Service account service-731166470827@cloud-ml.google.com.iam.gserviceaccount.com to access files in qwiklabs-gcp-04527c06d4f6cef3-bucket\n",
      "Authorizing the Cloud ML Service account service-731166470827@cloud-ml.google.com.iam.gserviceaccount.com to access files in qwiklabs-gcp-04527c06d4f6cef3-bucket\n"
     ]
    },
    {
     "name": "stderr",
     "output_type": "stream",
     "text": [
      "  % Total    % Received % Xferd  Average Speed   Time    Time     Time  Current\n",
      "                                 Dload  Upload   Total   Spent    Left  Speed\n",
      "100   233    0   233    0     0    330      0 --:--:-- --:--:-- --:--:--   330\n",
      "No changes to gs://qwiklabs-gcp-04527c06d4f6cef3-bucket/\n",
      "No changes to gs://qwiklabs-gcp-04527c06d4f6cef3-bucket/lab3a_180630_042957/835dec6c6e6de069147b1d16dc563e55933d5cf771af5f37c09e7ab7fca15b5c/volume_estimator-0.0.1.tar.gz\n",
      "Updated ACL on gs://qwiklabs-gcp-04527c06d4f6cef3-bucket/volume_estimator/\n",
      "Updated ACL on gs://qwiklabs-gcp-04527c06d4f6cef3-bucket/volume_estimator/smallinput/\n",
      "Updated ACL on gs://qwiklabs-gcp-04527c06d4f6cef3-bucket/volume_estimator/smallinput/volume_estimator_trained/\n",
      "Updated ACL on gs://qwiklabs-gcp-04527c06d4f6cef3-bucket/volume_estimator/smallinput/volume_estimator_trained/eval/\n",
      "Updated ACL on gs://qwiklabs-gcp-04527c06d4f6cef3-bucket/volume_estimator/smallinput/volume_estimator_trained/checkpoint\n",
      "Updated ACL on gs://qwiklabs-gcp-04527c06d4f6cef3-bucket/volume_estimator/smallinput/volume_estimator_trained/eval/events.out.tfevents.1530333104.cmle-training-5774932940592239578\n",
      "Updated ACL on gs://qwiklabs-gcp-04527c06d4f6cef3-bucket/volume_estimator/smallinput/volume_estimator_trained/events.out.tfevents.1530333083.cmle-training-5774932940592239578\n",
      "Updated ACL on gs://qwiklabs-gcp-04527c06d4f6cef3-bucket/volume_estimator/smallinput/volume_estimator_trained/export/\n",
      "Updated ACL on gs://qwiklabs-gcp-04527c06d4f6cef3-bucket/volume_estimator/smallinput/volume_estimator_trained/export/exporter/\n",
      "Updated ACL on gs://qwiklabs-gcp-04527c06d4f6cef3-bucket/volume_estimator/smallinput/volume_estimator_trained/export/exporter/1530333107/saved_model.pb\n",
      "Updated ACL on gs://qwiklabs-gcp-04527c06d4f6cef3-bucket/volume_estimator/smallinput/volume_estimator_trained/export/exporter/1530333107/variables/\n",
      "Updated ACL on gs://qwiklabs-gcp-04527c06d4f6cef3-bucket/volume_estimator/smallinput/volume_estimator_trained/export/exporter/1530333107/\n",
      "Updated ACL on gs://qwiklabs-gcp-04527c06d4f6cef3-bucket/volume_estimator/smallinput/volume_estimator_trained/export/exporter/1530333107/variables/variables.data-00000-of-00001\n",
      "Updated ACL on gs://qwiklabs-gcp-04527c06d4f6cef3-bucket/volume_estimator/smallinput/volume_estimator_trained/export/exporter/1530333107/variables/variables.index\n",
      "Updated ACL on gs://qwiklabs-gcp-04527c06d4f6cef3-bucket/volume_estimator/smallinput/volume_estimator_trained/export/exporter/1530333176/\n",
      "Updated ACL on gs://qwiklabs-gcp-04527c06d4f6cef3-bucket/volume_estimator/smallinput/volume_estimator_trained/export/exporter/1530333176/variables/\n",
      "Updated ACL on gs://qwiklabs-gcp-04527c06d4f6cef3-bucket/volume_estimator/smallinput/volume_estimator_trained/export/exporter/1530333176/variables/variables.data-00000-of-00001\n",
      "Updated ACL on gs://qwiklabs-gcp-04527c06d4f6cef3-bucket/volume_estimator/smallinput/volume_estimator_trained/export/exporter/1530333176/variables/variables.index\n",
      "Updated ACL on gs://qwiklabs-gcp-04527c06d4f6cef3-bucket/volume_estimator/smallinput/volume_estimator_trained/graph.pbtxt\n",
      "Updated ACL on gs://qwiklabs-gcp-04527c06d4f6cef3-bucket/volume_estimator/smallinput/volume_estimator_trained/export/exporter/1530333176/saved_model.pb\n",
      "Updated ACL on gs://qwiklabs-gcp-04527c06d4f6cef3-bucket/volume_estimator/smallinput/volume_estimator_trained/model.ckpt-1.data-00000-of-00001\n",
      "Updated ACL on gs://qwiklabs-gcp-04527c06d4f6cef3-bucket/volume_estimator/smallinput/volume_estimator_trained/model.ckpt-1.meta\n",
      "Updated ACL on gs://qwiklabs-gcp-04527c06d4f6cef3-bucket/volume_estimator/smallinput/volume_estimator_trained/model.ckpt-1.index\n",
      "Updated ACL on gs://qwiklabs-gcp-04527c06d4f6cef3-bucket/volume_estimator/smallinput/volume_estimator_trained/model.ckpt-10000.data-00000-of-00001\n",
      "Updated ACL on gs://qwiklabs-gcp-04527c06d4f6cef3-bucket/volume_estimator/smallinput/volume_estimator_trained/model.ckpt-10000.index\n",
      "Updated ACL on gs://qwiklabs-gcp-04527c06d4f6cef3-bucket/volume_estimator/smallinput/volume_estimator_trained/model.ckpt-10000.meta\n",
      "No changes to gs://qwiklabs-gcp-04527c06d4f6cef3-bucket/\n",
      "  % Total    % Received % Xferd  Average Speed   Time    Time     Time  Current\n",
      "                                 Dload  Upload   Total   Spent    Left  Speed\n",
      "100   233    0   233    0     0    330      0 --:--:-- --:--:-- --:--:--   330\n",
      "No changes to gs://qwiklabs-gcp-04527c06d4f6cef3-bucket/\n",
      "No changes to gs://qwiklabs-gcp-04527c06d4f6cef3-bucket/lab3a_180630_042957/835dec6c6e6de069147b1d16dc563e55933d5cf771af5f37c09e7ab7fca15b5c/volume_estimator-0.0.1.tar.gz\n",
      "Updated ACL on gs://qwiklabs-gcp-04527c06d4f6cef3-bucket/volume_estimator/\n",
      "Updated ACL on gs://qwiklabs-gcp-04527c06d4f6cef3-bucket/volume_estimator/smallinput/\n",
      "Updated ACL on gs://qwiklabs-gcp-04527c06d4f6cef3-bucket/volume_estimator/smallinput/volume_estimator_trained/\n",
      "Updated ACL on gs://qwiklabs-gcp-04527c06d4f6cef3-bucket/volume_estimator/smallinput/volume_estimator_trained/eval/\n",
      "Updated ACL on gs://qwiklabs-gcp-04527c06d4f6cef3-bucket/volume_estimator/smallinput/volume_estimator_trained/checkpoint\n",
      "Updated ACL on gs://qwiklabs-gcp-04527c06d4f6cef3-bucket/volume_estimator/smallinput/volume_estimator_trained/eval/events.out.tfevents.1530333104.cmle-training-5774932940592239578\n",
      "Updated ACL on gs://qwiklabs-gcp-04527c06d4f6cef3-bucket/volume_estimator/smallinput/volume_estimator_trained/events.out.tfevents.1530333083.cmle-training-5774932940592239578\n",
      "Updated ACL on gs://qwiklabs-gcp-04527c06d4f6cef3-bucket/volume_estimator/smallinput/volume_estimator_trained/export/\n",
      "Updated ACL on gs://qwiklabs-gcp-04527c06d4f6cef3-bucket/volume_estimator/smallinput/volume_estimator_trained/export/exporter/\n",
      "Updated ACL on gs://qwiklabs-gcp-04527c06d4f6cef3-bucket/volume_estimator/smallinput/volume_estimator_trained/export/exporter/1530333107/saved_model.pb\n",
      "Updated ACL on gs://qwiklabs-gcp-04527c06d4f6cef3-bucket/volume_estimator/smallinput/volume_estimator_trained/export/exporter/1530333107/variables/\n",
      "Updated ACL on gs://qwiklabs-gcp-04527c06d4f6cef3-bucket/volume_estimator/smallinput/volume_estimator_trained/export/exporter/1530333107/\n",
      "Updated ACL on gs://qwiklabs-gcp-04527c06d4f6cef3-bucket/volume_estimator/smallinput/volume_estimator_trained/export/exporter/1530333107/variables/variables.data-00000-of-00001\n",
      "Updated ACL on gs://qwiklabs-gcp-04527c06d4f6cef3-bucket/volume_estimator/smallinput/volume_estimator_trained/export/exporter/1530333107/variables/variables.index\n",
      "Updated ACL on gs://qwiklabs-gcp-04527c06d4f6cef3-bucket/volume_estimator/smallinput/volume_estimator_trained/export/exporter/1530333176/\n",
      "Updated ACL on gs://qwiklabs-gcp-04527c06d4f6cef3-bucket/volume_estimator/smallinput/volume_estimator_trained/export/exporter/1530333176/variables/\n",
      "Updated ACL on gs://qwiklabs-gcp-04527c06d4f6cef3-bucket/volume_estimator/smallinput/volume_estimator_trained/export/exporter/1530333176/variables/variables.data-00000-of-00001\n",
      "Updated ACL on gs://qwiklabs-gcp-04527c06d4f6cef3-bucket/volume_estimator/smallinput/volume_estimator_trained/export/exporter/1530333176/variables/variables.index\n",
      "Updated ACL on gs://qwiklabs-gcp-04527c06d4f6cef3-bucket/volume_estimator/smallinput/volume_estimator_trained/graph.pbtxt\n",
      "Updated ACL on gs://qwiklabs-gcp-04527c06d4f6cef3-bucket/volume_estimator/smallinput/volume_estimator_trained/export/exporter/1530333176/saved_model.pb\n",
      "Updated ACL on gs://qwiklabs-gcp-04527c06d4f6cef3-bucket/volume_estimator/smallinput/volume_estimator_trained/model.ckpt-1.data-00000-of-00001\n",
      "Updated ACL on gs://qwiklabs-gcp-04527c06d4f6cef3-bucket/volume_estimator/smallinput/volume_estimator_trained/model.ckpt-1.meta\n",
      "Updated ACL on gs://qwiklabs-gcp-04527c06d4f6cef3-bucket/volume_estimator/smallinput/volume_estimator_trained/model.ckpt-1.index\n",
      "Updated ACL on gs://qwiklabs-gcp-04527c06d4f6cef3-bucket/volume_estimator/smallinput/volume_estimator_trained/model.ckpt-10000.data-00000-of-00001\n",
      "Updated ACL on gs://qwiklabs-gcp-04527c06d4f6cef3-bucket/volume_estimator/smallinput/volume_estimator_trained/model.ckpt-10000.index\n",
      "Updated ACL on gs://qwiklabs-gcp-04527c06d4f6cef3-bucket/volume_estimator/smallinput/volume_estimator_trained/model.ckpt-10000.meta\n",
      "No changes to gs://qwiklabs-gcp-04527c06d4f6cef3-bucket/\n"
     ]
    }
   ],
   "source": [
    "%bash\n",
    "PROJECT_ID=$PROJECT\n",
    "AUTH_TOKEN=$(gcloud auth print-access-token)\n",
    "SVC_ACCOUNT=$(curl -X GET -H \"Content-Type: application/json\" \\\n",
    "    -H \"Authorization: Bearer $AUTH_TOKEN\" \\\n",
    "    https://ml.googleapis.com/v1/projects/${PROJECT_ID}:getConfig \\\n",
    "    | python -c \"import json; import sys; response = json.load(sys.stdin); \\\n",
    "    print response['serviceAccount']\")\n",
    "\n",
    "echo \"Authorizing the Cloud ML Service account $SVC_ACCOUNT to access files in $BUCKET\"\n",
    "gsutil -m defacl ch -u $SVC_ACCOUNT:R gs://$BUCKET\n",
    "gsutil -m acl ch -u $SVC_ACCOUNT:R -r gs://$BUCKET  # error message (if bucket is empty) can be ignored\n",
    "gsutil -m acl ch -u $SVC_ACCOUNT:W gs://$BUCKET"
   ]
  },
  {
   "cell_type": "markdown",
   "metadata": {
    "deletable": true,
    "editable": true
   },
   "source": [
    "<h2> Packaging up the code </h2>\n",
    "\n",
    "Take your code and put into a standard Python package structure.  <a href=\"taxifare/trainer/model.py\">model.py</a> and <a href=\"taxifare/trainer/task.py\">task.py</a> contain the Tensorflow code from earlier (explore the <a href=\"taxifare/trainer/\">directory structure</a>)."
   ]
  },
  {
   "cell_type": "code",
   "execution_count": null,
   "metadata": {
    "collapsed": false,
    "deletable": true,
    "editable": true
   },
   "outputs": [],
   "source": [
    "!find volume_estimator"
   ]
  },
  {
   "cell_type": "code",
   "execution_count": null,
   "metadata": {
    "collapsed": false,
    "deletable": true,
    "editable": true
   },
   "outputs": [],
   "source": [
    "!cat volume_estimator/trainer/model.py"
   ]
  },
  {
   "cell_type": "markdown",
   "metadata": {
    "deletable": true,
    "editable": true
   },
   "source": [
    "<h2> Find absolute paths to your data </h2>"
   ]
  },
  {
   "cell_type": "markdown",
   "metadata": {
    "deletable": true,
    "editable": true
   },
   "source": [
    "Note the absolute paths below. /content is mapped in Datalab to where the home icon takes you"
   ]
  },
  {
   "cell_type": "code",
   "execution_count": 7,
   "metadata": {
    "collapsed": false,
    "deletable": true,
    "editable": true
   },
   "outputs": [
    {
     "name": "stdout",
     "output_type": "stream",
     "text": [
      "/content/datalab/notebooks/training-data-analyst/courses/machine_learning/deepdive/03_tensorflow\n",
      "/content/datalab/notebooks/training-data-analyst/courses/machine_learning/deepdive/03_tensorflow\n"
     ]
    }
   ],
   "source": [
    "%bash\n",
    "echo $PWD\n",
    "rm -rf $PWD/volume_estimator_trained"
   ]
  },
  {
   "cell_type": "markdown",
   "metadata": {
    "deletable": true,
    "editable": true
   },
   "source": [
    "<h2> Running the Python module from the command-line </h2>"
   ]
  },
  {
   "cell_type": "code",
   "execution_count": 15,
   "metadata": {
    "collapsed": false,
    "deletable": true,
    "editable": true
   },
   "outputs": [
    {
     "name": "stderr",
     "output_type": "stream",
     "text": [
      "/usr/local/envs/py2env/lib/python2.7/site-packages/h5py/__init__.py:36: FutureWarning: Conversion of the second argument of issubdtype from `float` to `np.floating` is deprecated. In future, it will be treated as `np.float64 == np.dtype(float).type`.\n",
      "  from ._conv import register_converters as _register_converters\n",
      "INFO:tensorflow:Using default config.\n",
      "INFO:tensorflow:Using config: {'_save_checkpoints_secs': 600, '_session_config': None, '_keep_checkpoint_max': 5, '_task_type': 'worker', '_train_distribute': None, '_is_chief': True, '_cluster_spec': <tensorflow.python.training.server_lib.ClusterSpec object at 0x7f88f90937d0>, '_evaluation_master': '', '_save_checkpoints_steps': None, '_keep_checkpoint_every_n_hours': 10000, '_service': None, '_num_ps_replicas': 0, '_tf_random_seed': None, '_master': '', '_num_worker_replicas': 1, '_task_id': 0, '_log_step_count_steps': 100, '_model_dir': '/content/datalab/notebooks/training-data-analyst/courses/machine_learning/deepdive/03_tensorflow/volume_estimator_trained', '_global_id_in_cluster': 0, '_save_summary_steps': 100}\n",
      "INFO:tensorflow:Running training and evaluation locally (non-distributed).\n",
      "INFO:tensorflow:Start train and evaluate loop. The evaluate will happen after 300 secs (eval_spec.throttle_secs) or training is finished.\n",
      "INFO:tensorflow:Calling model_fn.\n",
      "INFO:tensorflow:Done calling model_fn.\n",
      "INFO:tensorflow:Create CheckpointSaverHook.\n",
      "INFO:tensorflow:Graph was finalized.\n",
      "2018-06-30 05:09:19.224132: I tensorflow/core/platform/cpu_feature_guard.cc:140] Your CPU supports instructions that this TensorFlow binary was not compiled to use: AVX2 FMA\n",
      "INFO:tensorflow:Running local_init_op.\n",
      "INFO:tensorflow:Done running local_init_op.\n",
      "INFO:tensorflow:Saving checkpoints for 1 into /content/datalab/notebooks/training-data-analyst/courses/machine_learning/deepdive/03_tensorflow/volume_estimator_trained/model.ckpt.\n",
      "INFO:tensorflow:loss = 33349.75, step = 1\n",
      "INFO:tensorflow:global_step/sec: 324.318\n",
      "INFO:tensorflow:loss = 1307.0013, step = 101 (0.309 sec)\n",
      "INFO:tensorflow:global_step/sec: 383.124\n",
      "INFO:tensorflow:loss = 385.64545, step = 201 (0.261 sec)\n",
      "INFO:tensorflow:global_step/sec: 342.093\n",
      "INFO:tensorflow:loss = 262.70312, step = 301 (0.292 sec)\n",
      "INFO:tensorflow:global_step/sec: 382.57\n",
      "INFO:tensorflow:loss = 217.80676, step = 401 (0.261 sec)\n",
      "INFO:tensorflow:global_step/sec: 390.232\n",
      "INFO:tensorflow:loss = 201.00262, step = 501 (0.256 sec)\n",
      "INFO:tensorflow:global_step/sec: 386.36\n",
      "INFO:tensorflow:loss = 180.83655, step = 601 (0.259 sec)\n",
      "INFO:tensorflow:global_step/sec: 315.753\n",
      "INFO:tensorflow:loss = 176.47974, step = 701 (0.317 sec)\n",
      "INFO:tensorflow:global_step/sec: 378.066\n",
      "INFO:tensorflow:loss = 184.69601, step = 801 (0.264 sec)\n",
      "INFO:tensorflow:global_step/sec: 386.079\n",
      "INFO:tensorflow:loss = 181.10033, step = 901 (0.259 sec)\n",
      "INFO:tensorflow:Saving checkpoints for 1000 into /content/datalab/notebooks/training-data-analyst/courses/machine_learning/deepdive/03_tensorflow/volume_estimator_trained/model.ckpt.\n",
      "INFO:tensorflow:Loss for final step: 190.27448.\n",
      "INFO:tensorflow:Calling model_fn.\n",
      "INFO:tensorflow:Done calling model_fn.\n",
      "INFO:tensorflow:Starting evaluation at 2018-06-30-05:09:22\n",
      "INFO:tensorflow:Graph was finalized.\n",
      "INFO:tensorflow:Restoring parameters from /content/datalab/notebooks/training-data-analyst/courses/machine_learning/deepdive/03_tensorflow/volume_estimator_trained/model.ckpt-1000\n",
      "INFO:tensorflow:Running local_init_op.\n",
      "INFO:tensorflow:Done running local_init_op.\n",
      "INFO:tensorflow:Finished evaluation at 2018-06-30-05:09:22\n",
      "INFO:tensorflow:Saving dict for global step 1000: average_loss = 0.32015753, global_step = 1000, loss = 160.07877\n",
      "INFO:tensorflow:Calling model_fn.\n",
      "INFO:tensorflow:Done calling model_fn.\n",
      "INFO:tensorflow:Signatures INCLUDED in export for Classify: None\n",
      "INFO:tensorflow:Signatures INCLUDED in export for Regress: None\n",
      "INFO:tensorflow:Signatures INCLUDED in export for Predict: ['predict']\n",
      "INFO:tensorflow:Signatures EXCLUDED from export because they cannot be be served via TensorFlow Serving APIs:\n",
      "INFO:tensorflow:'serving_default' : Regression input must be a single string Tensor; got {'h': <tf.Tensor 'Placeholder_1:0' shape=(?,) dtype=float32>, 'r': <tf.Tensor 'Placeholder:0' shape=(?,) dtype=float32>}\n",
      "INFO:tensorflow:'regression' : Regression input must be a single string Tensor; got {'h': <tf.Tensor 'Placeholder_1:0' shape=(?,) dtype=float32>, 'r': <tf.Tensor 'Placeholder:0' shape=(?,) dtype=float32>}\n",
      "WARNING:tensorflow:Export includes no default signature!\n",
      "INFO:tensorflow:Restoring parameters from /content/datalab/notebooks/training-data-analyst/courses/machine_learning/deepdive/03_tensorflow/volume_estimator_trained/model.ckpt-1000\n",
      "INFO:tensorflow:Assets added to graph.\n",
      "INFO:tensorflow:No assets to write.\n",
      "INFO:tensorflow:SavedModel written to: /content/datalab/notebooks/training-data-analyst/courses/machine_learning/deepdive/03_tensorflow/volume_estimator_trained/export/exporter/temp-1530335363/saved_model.pb\n",
      "/usr/local/envs/py2env/lib/python2.7/site-packages/h5py/__init__.py:36: FutureWarning: Conversion of the second argument of issubdtype from `float` to `np.floating` is deprecated. In future, it will be treated as `np.float64 == np.dtype(float).type`.\n",
      "  from ._conv import register_converters as _register_converters\n",
      "INFO:tensorflow:Using default config.\n",
      "INFO:tensorflow:Using config: {'_save_checkpoints_secs': 600, '_session_config': None, '_keep_checkpoint_max': 5, '_task_type': 'worker', '_train_distribute': None, '_is_chief': True, '_cluster_spec': <tensorflow.python.training.server_lib.ClusterSpec object at 0x7f88f90937d0>, '_evaluation_master': '', '_save_checkpoints_steps': None, '_keep_checkpoint_every_n_hours': 10000, '_service': None, '_num_ps_replicas': 0, '_tf_random_seed': None, '_master': '', '_num_worker_replicas': 1, '_task_id': 0, '_log_step_count_steps': 100, '_model_dir': '/content/datalab/notebooks/training-data-analyst/courses/machine_learning/deepdive/03_tensorflow/volume_estimator_trained', '_global_id_in_cluster': 0, '_save_summary_steps': 100}\n",
      "INFO:tensorflow:Running training and evaluation locally (non-distributed).\n",
      "INFO:tensorflow:Start train and evaluate loop. The evaluate will happen after 300 secs (eval_spec.throttle_secs) or training is finished.\n",
      "INFO:tensorflow:Calling model_fn.\n",
      "INFO:tensorflow:Done calling model_fn.\n",
      "INFO:tensorflow:Create CheckpointSaverHook.\n",
      "INFO:tensorflow:Graph was finalized.\n",
      "2018-06-30 05:09:19.224132: I tensorflow/core/platform/cpu_feature_guard.cc:140] Your CPU supports instructions that this TensorFlow binary was not compiled to use: AVX2 FMA\n",
      "INFO:tensorflow:Running local_init_op.\n",
      "INFO:tensorflow:Done running local_init_op.\n",
      "INFO:tensorflow:Saving checkpoints for 1 into /content/datalab/notebooks/training-data-analyst/courses/machine_learning/deepdive/03_tensorflow/volume_estimator_trained/model.ckpt.\n",
      "INFO:tensorflow:loss = 33349.75, step = 1\n",
      "INFO:tensorflow:global_step/sec: 324.318\n",
      "INFO:tensorflow:loss = 1307.0013, step = 101 (0.309 sec)\n",
      "INFO:tensorflow:global_step/sec: 383.124\n",
      "INFO:tensorflow:loss = 385.64545, step = 201 (0.261 sec)\n",
      "INFO:tensorflow:global_step/sec: 342.093\n",
      "INFO:tensorflow:loss = 262.70312, step = 301 (0.292 sec)\n",
      "INFO:tensorflow:global_step/sec: 382.57\n",
      "INFO:tensorflow:loss = 217.80676, step = 401 (0.261 sec)\n",
      "INFO:tensorflow:global_step/sec: 390.232\n",
      "INFO:tensorflow:loss = 201.00262, step = 501 (0.256 sec)\n",
      "INFO:tensorflow:global_step/sec: 386.36\n",
      "INFO:tensorflow:loss = 180.83655, step = 601 (0.259 sec)\n",
      "INFO:tensorflow:global_step/sec: 315.753\n",
      "INFO:tensorflow:loss = 176.47974, step = 701 (0.317 sec)\n",
      "INFO:tensorflow:global_step/sec: 378.066\n",
      "INFO:tensorflow:loss = 184.69601, step = 801 (0.264 sec)\n",
      "INFO:tensorflow:global_step/sec: 386.079\n",
      "INFO:tensorflow:loss = 181.10033, step = 901 (0.259 sec)\n",
      "INFO:tensorflow:Saving checkpoints for 1000 into /content/datalab/notebooks/training-data-analyst/courses/machine_learning/deepdive/03_tensorflow/volume_estimator_trained/model.ckpt.\n",
      "INFO:tensorflow:Loss for final step: 190.27448.\n",
      "INFO:tensorflow:Calling model_fn.\n",
      "INFO:tensorflow:Done calling model_fn.\n",
      "INFO:tensorflow:Starting evaluation at 2018-06-30-05:09:22\n",
      "INFO:tensorflow:Graph was finalized.\n",
      "INFO:tensorflow:Restoring parameters from /content/datalab/notebooks/training-data-analyst/courses/machine_learning/deepdive/03_tensorflow/volume_estimator_trained/model.ckpt-1000\n",
      "INFO:tensorflow:Running local_init_op.\n",
      "INFO:tensorflow:Done running local_init_op.\n",
      "INFO:tensorflow:Finished evaluation at 2018-06-30-05:09:22\n",
      "INFO:tensorflow:Saving dict for global step 1000: average_loss = 0.32015753, global_step = 1000, loss = 160.07877\n",
      "INFO:tensorflow:Calling model_fn.\n",
      "INFO:tensorflow:Done calling model_fn.\n",
      "INFO:tensorflow:Signatures INCLUDED in export for Classify: None\n",
      "INFO:tensorflow:Signatures INCLUDED in export for Regress: None\n",
      "INFO:tensorflow:Signatures INCLUDED in export for Predict: ['predict']\n",
      "INFO:tensorflow:Signatures EXCLUDED from export because they cannot be be served via TensorFlow Serving APIs:\n",
      "INFO:tensorflow:'serving_default' : Regression input must be a single string Tensor; got {'h': <tf.Tensor 'Placeholder_1:0' shape=(?,) dtype=float32>, 'r': <tf.Tensor 'Placeholder:0' shape=(?,) dtype=float32>}\n",
      "INFO:tensorflow:'regression' : Regression input must be a single string Tensor; got {'h': <tf.Tensor 'Placeholder_1:0' shape=(?,) dtype=float32>, 'r': <tf.Tensor 'Placeholder:0' shape=(?,) dtype=float32>}\n",
      "WARNING:tensorflow:Export includes no default signature!\n",
      "INFO:tensorflow:Restoring parameters from /content/datalab/notebooks/training-data-analyst/courses/machine_learning/deepdive/03_tensorflow/volume_estimator_trained/model.ckpt-1000\n",
      "INFO:tensorflow:Assets added to graph.\n",
      "INFO:tensorflow:No assets to write.\n",
      "INFO:tensorflow:SavedModel written to: /content/datalab/notebooks/training-data-analyst/courses/machine_learning/deepdive/03_tensorflow/volume_estimator_trained/export/exporter/temp-1530335363/saved_model.pb\n"
     ]
    }
   ],
   "source": [
    "%bash\n",
    "rm -rf volume_estimator.tar.gz volume_estimator_trained\n",
    "export PYTHONPATH=${PYTHONPATH}:${PWD}/volume_estimator\n",
    "python -m trainer.task \\\n",
    "   --output_dir=${PWD}/volume_estimator_trained \\\n",
    "   --train_steps=1000 --job-dir=./tmp \\\n",
    "   --train_data_size=1000 \\\n",
    "   --eval_data_size=1000"
   ]
  },
  {
   "cell_type": "code",
   "execution_count": 12,
   "metadata": {
    "collapsed": false,
    "deletable": true,
    "editable": true
   },
   "outputs": [
    {
     "name": "stdout",
     "output_type": "stream",
     "text": [
      "1530335166\n",
      "1530335166\n"
     ]
    }
   ],
   "source": [
    "%bash\n",
    "ls $PWD/volume_estimator_trained/export/exporter/"
   ]
  },
  {
   "cell_type": "code",
   "execution_count": 13,
   "metadata": {
    "collapsed": false,
    "deletable": true,
    "editable": true
   },
   "outputs": [
    {
     "name": "stdout",
     "output_type": "stream",
     "text": [
      "Overwriting ./test.json\n",
      "Overwriting ./test.json\n"
     ]
    }
   ],
   "source": [
    "%writefile ./test.json\n",
    "{\"r\": 1.0,\"h\": 1.0}"
   ]
  },
  {
   "cell_type": "code",
   "execution_count": 14,
   "metadata": {
    "collapsed": false,
    "deletable": true,
    "editable": true
   },
   "outputs": [
    {
     "name": "stdout",
     "output_type": "stream",
     "text": [
      "PREDICTIONS\n",
      "[2.5062191486358643]\n",
      "PREDICTIONS\n",
      "[2.5062191486358643]\n"
     ]
    },
    {
     "name": "stderr",
     "output_type": "stream",
     "text": [
      "WARNING: /usr/local/envs/py2env/lib/python2.7/site-packages/h5py/__init__.py:36: FutureWarning: Conversion of the second argument of issubdtype from `float` to `np.floating` is deprecated. In future, it will be treated as `np.float64 == np.dtype(float).type`.\n",
      "  from ._conv import register_converters as _register_converters\n",
      "2018-06-30 05:06:37.292868: I tensorflow/core/platform/cpu_feature_guard.cc:140] Your CPU supports instructions that this TensorFlow binary was not compiled to use: AVX2 FMA\n",
      "\n",
      "WARNING: /usr/local/envs/py2env/lib/python2.7/site-packages/h5py/__init__.py:36: FutureWarning: Conversion of the second argument of issubdtype from `float` to `np.floating` is deprecated. In future, it will be treated as `np.float64 == np.dtype(float).type`.\n",
      "  from ._conv import register_converters as _register_converters\n",
      "2018-06-30 05:06:37.292868: I tensorflow/core/platform/cpu_feature_guard.cc:140] Your CPU supports instructions that this TensorFlow binary was not compiled to use: AVX2 FMA\n",
      "\n"
     ]
    }
   ],
   "source": [
    "%bash\n",
    "model_dir=$(ls ${PWD}/volume_estimator_trained/export/exporter)\n",
    "gcloud ml-engine local predict \\\n",
    "    --model-dir=${PWD}/volume_estimator_trained/export/exporter/${model_dir} \\\n",
    "    --json-instances=./test.json"
   ]
  },
  {
   "cell_type": "markdown",
   "metadata": {
    "deletable": true,
    "editable": true
   },
   "source": [
    "<h2> Running locally using gcloud </h2>"
   ]
  },
  {
   "cell_type": "code",
   "execution_count": null,
   "metadata": {
    "collapsed": false,
    "deletable": true,
    "editable": true
   },
   "outputs": [],
   "source": [
    "%bash\n",
    "rm -rf volume_estimator.tar.gz volume_estimator_trained\n",
    "gcloud ml-engine local train \\\n",
    "   --module-name=trainer.task \\\n",
    "   --package-path=${PWD}/volume_estimator/trainer \\\n",
    "   -- \\\n",
    "   --train_steps=1000 \\\n",
    "   --output_dir=${PWD}/volume_estimator_trained "
   ]
  },
  {
   "cell_type": "markdown",
   "metadata": {
    "deletable": true,
    "editable": true
   },
   "source": [
    "When I ran it (due to random seeds, your results will be different), the ```average_loss``` (Mean Squared Error) on the evaluation dataset was 187, meaning that the RMSE was around 13."
   ]
  },
  {
   "cell_type": "code",
   "execution_count": null,
   "metadata": {
    "collapsed": false,
    "deletable": true,
    "editable": true
   },
   "outputs": [],
   "source": [
    "from google.datalab.ml import TensorBoard\n",
    "TensorBoard().start('./volume_estimator_trained')"
   ]
  },
  {
   "cell_type": "code",
   "execution_count": null,
   "metadata": {
    "collapsed": false,
    "deletable": true,
    "editable": true
   },
   "outputs": [],
   "source": [
    "for pid in TensorBoard.list()['pid']:\n",
    "  TensorBoard().stop(pid)\n",
    "  print 'Stopped TensorBoard with pid {}'.format(pid)"
   ]
  },
  {
   "cell_type": "markdown",
   "metadata": {
    "deletable": true,
    "editable": true
   },
   "source": [
    "If the above step (to stop TensorBoard) appears stalled, just move on to the next step. You don't need to wait for it to return."
   ]
  },
  {
   "cell_type": "code",
   "execution_count": null,
   "metadata": {
    "collapsed": false,
    "deletable": true,
    "editable": true
   },
   "outputs": [],
   "source": [
    "!ls $PWD/volume_estimator_trained"
   ]
  },
  {
   "cell_type": "markdown",
   "metadata": {
    "deletable": true,
    "editable": true
   },
   "source": [
    "<h2> Submit training job using gcloud </h2>\n",
    "\n",
    "First copy the training data to the cloud.  Then, launch a training job.\n",
    "\n",
    "After you submit the job, go to the cloud console (http://console.cloud.google.com) and select <b>Machine Learning | Jobs</b> to monitor progress.  \n",
    "\n",
    "<b>Note:</b> Don't be concerned if the notebook stalls (with a blue progress bar) or returns with an error about being unable to refresh auth tokens. This is a long-lived Cloud job and work is going on in the cloud.  Use the Cloud Console link (above) to monitor the job."
   ]
  },
  {
   "cell_type": "code",
   "execution_count": null,
   "metadata": {
    "collapsed": false,
    "deletable": true,
    "editable": true
   },
   "outputs": [],
   "source": [
    "%bash\n",
    "echo $BUCKET\n",
    "gsutil -m rm -rf gs://${BUCKET}/volume_estimator/smallinput/"
   ]
  },
  {
   "cell_type": "code",
   "execution_count": null,
   "metadata": {
    "collapsed": false,
    "deletable": true,
    "editable": true
   },
   "outputs": [],
   "source": [
    "%%bash\n",
    "OUTDIR=gs://${BUCKET}/volume_estimator/smallinput/volume_estimator_trained\n",
    "JOBNAME=lab3a_$(date -u +%y%m%d_%H%M%S)\n",
    "echo $OUTDIR $REGION $JOBNAME\n",
    "gsutil -m rm -rf $OUTDIR\n",
    "gcloud ml-engine jobs submit training $JOBNAME \\\n",
    "   --region=$REGION \\\n",
    "   --module-name=trainer.task \\\n",
    "   --package-path=${PWD}/volume_estimator/trainer \\\n",
    "   --job-dir=$OUTDIR \\\n",
    "   --staging-bucket=gs://$BUCKET \\\n",
    "   --scale-tier=BASIC \\\n",
    "   --runtime-version=$TFVERSION \\\n",
    "   -- \\\n",
    "   --output_dir=$OUTDIR \\\n",
    "   --train_steps=10000"
   ]
  },
  {
   "cell_type": "markdown",
   "metadata": {
    "deletable": true,
    "editable": true
   },
   "source": [
    "Don't be concerned if the notebook appears stalled (with a blue progress bar) or returns with an error about being unable to refresh auth tokens. This is a long-lived Cloud job and work is going on in the cloud. \n",
    "\n",
    "<b>Use the Cloud Console link to monitor the job and do NOT proceed until the job is done.</b>"
   ]
  },
  {
   "cell_type": "markdown",
   "metadata": {
    "deletable": true,
    "editable": true
   },
   "source": [
    "<h2> Deploy model </h2>\n",
    "\n",
    "Find out the actual name of the subdirectory where the model is stored and use it to deploy the model.  Deploying model will take up to <b>5 minutes</b>."
   ]
  },
  {
   "cell_type": "code",
   "execution_count": null,
   "metadata": {
    "collapsed": false,
    "deletable": true,
    "editable": true
   },
   "outputs": [],
   "source": [
    "%bash\n",
    "gsutil ls gs://${BUCKET}/volume_estimator/smallinput/volume_estimator_trained/export/exporter"
   ]
  },
  {
   "cell_type": "code",
   "execution_count": null,
   "metadata": {
    "collapsed": false,
    "deletable": true,
    "editable": true
   },
   "outputs": [],
   "source": [
    "%bash\n",
    "MODEL_NAME=\"volume_estimator\"\n",
    "MODEL_VERSION=\"v1\"\n",
    "MODEL_LOCATION=$(gsutil ls gs://${BUCKET}/volume_estimator/smallinput/volume_estimator_trained/export/exporter | tail -1)\n",
    "echo \"Run these commands one-by-one (the very first time, you'll create a model and then create a version)\"\n",
    "#gcloud ml-engine versions delete ${MODEL_VERSION} --model ${MODEL_NAME}\n",
    "#gcloud ml-engine models delete ${MODEL_NAME}\n",
    "gcloud ml-engine models create ${MODEL_NAME} --regions $REGION\n",
    "gcloud ml-engine versions create ${MODEL_VERSION} --model ${MODEL_NAME} --origin ${MODEL_LOCATION} --runtime-version $TFVERSION"
   ]
  },
  {
   "cell_type": "markdown",
   "metadata": {
    "deletable": true,
    "editable": true
   },
   "source": [
    "<h2> Prediction </h2>"
   ]
  },
  {
   "cell_type": "code",
   "execution_count": null,
   "metadata": {
    "collapsed": false,
    "deletable": true,
    "editable": true
   },
   "outputs": [],
   "source": [
    "%bash\n",
    "gcloud ml-engine predict --model=volume_estimator --version=v1 --json-instances=./test.json"
   ]
  },
  {
   "cell_type": "code",
   "execution_count": null,
   "metadata": {
    "collapsed": false,
    "deletable": true,
    "editable": true
   },
   "outputs": [],
   "source": [
    "from googleapiclient import discovery\n",
    "from oauth2client.client import GoogleCredentials\n",
    "import json\n",
    "\n",
    "credentials = GoogleCredentials.get_application_default()\n",
    "api = discovery.build('ml', 'v1', credentials=credentials,\n",
    "            discoveryServiceUrl='https://storage.googleapis.com/cloud-ml/discovery/ml_v1_discovery.json')\n",
    "\n",
    "request_data = {'instances':\n",
    "  [\n",
    "      {\n",
    "        'r': 1.0,\n",
    "        'h': 1.0\n",
    "      }\n",
    "  ]\n",
    "}\n",
    "\n",
    "parent = 'projects/%s/models/%s/versions/%s' % (PROJECT, 'volume_estimator', 'v1')\n",
    "response = api.projects().predict(body=request_data, name=parent).execute()\n",
    "print \"response={0}\".format(response)"
   ]
  },
  {
   "cell_type": "markdown",
   "metadata": {
    "deletable": true,
    "editable": true
   },
   "source": [
    "<h2> Train on larger dataset </h2>\n",
    "\n",
    "I have already followed the steps below and the files are already available. <b> You don't need to do the steps in this comment. </b> In the next chapter (on feature engineering), we will avoid all this manual processing by using Cloud Dataflow.\n",
    "\n",
    "Go to http://bigquery.cloud.google.com/ and type the query:\n",
    "<pre>\n",
    "SELECT\n",
    "  (tolls_amount + fare_amount) AS fare_amount,\n",
    "  pickup_longitude AS pickuplon,\n",
    "  pickup_latitude AS pickuplat,\n",
    "  dropoff_longitude AS dropofflon,\n",
    "  dropoff_latitude AS dropofflat,\n",
    "  passenger_count*1.0 AS passengers,\n",
    "  'nokeyindata' AS key\n",
    "FROM\n",
    "  [nyc-tlc:yellow.trips]\n",
    "WHERE\n",
    "  trip_distance > 0\n",
    "  AND fare_amount >= 2.5\n",
    "  AND pickup_longitude > -78\n",
    "  AND pickup_longitude < -70\n",
    "  AND dropoff_longitude > -78\n",
    "  AND dropoff_longitude < -70\n",
    "  AND pickup_latitude > 37\n",
    "  AND pickup_latitude < 45\n",
    "  AND dropoff_latitude > 37\n",
    "  AND dropoff_latitude < 45\n",
    "  AND passenger_count > 0\n",
    "  AND ABS(HASH(pickup_datetime)) % 1000 == 1\n",
    "</pre>\n",
    "\n",
    "Note that this is now 1,000,000 rows (i.e. 100x the original dataset).  Export this to CSV using the following steps (Note that <b>I have already done this and made the resulting GCS data publicly available</b>, so you don't need to do it.):\n",
    "<ol>\n",
    "<li> Click on the \"Save As Table\" button and note down the name of the dataset and table.\n",
    "<li> On the BigQuery console, find the newly exported table in the left-hand-side menu, and click on the name.\n",
    "<li> Click on \"Export Table\"\n",
    "<li> Supply your bucket name and give it the name train.csv (for example: gs://cloud-training-demos-ml/taxifare/ch3/train.csv). Note down what this is.  Wait for the job to finish (look at the \"Job History\" on the left-hand-side menu)\n",
    "<li> In the query above, change the final \"== 1\" to \"== 2\" and export this to Cloud Storage as valid.csv (e.g.  gs://cloud-training-demos-ml/taxifare/ch3/valid.csv)\n",
    "<li> Download the two files, remove the header line and upload it back to GCS.\n",
    "</ol>\n",
    "\n",
    "<p/>\n",
    "<p/>\n",
    "\n",
    "<h2> Run Cloud training on 1-million row dataset </h2>\n",
    "\n",
    "This took 60 minutes and uses as input 1-million rows.  The model is exactly the same as above. The only changes are to the input (to use the larger dataset) and to the Cloud MLE tier (to use STANDARD_1 instead of BASIC -- STANDARD_1 is approximately 10x more powerful than BASIC).  At the end of the training the loss was 32, but the RMSE (calculated on the validation dataset) was stubbornly at 9.03. So, simply adding more data doesn't help."
   ]
  },
  {
   "cell_type": "code",
   "execution_count": 17,
   "metadata": {
    "collapsed": false,
    "deletable": true,
    "editable": true
   },
   "outputs": [
    {
     "name": "stdout",
     "output_type": "stream",
     "text": [
      "gs://qwiklabs-gcp-04527c06d4f6cef3-bucket/volume_estimator/ch3/volume_estimator_trained us-central1 lab3a_180630_052152\n",
      "jobId: lab3a_180630_052152\n",
      "state: QUEUED\n",
      "gs://qwiklabs-gcp-04527c06d4f6cef3-bucket/volume_estimator/ch3/volume_estimator_trained us-central1 lab3a_180630_052152\n",
      "jobId: lab3a_180630_052152\n",
      "state: QUEUED\n"
     ]
    },
    {
     "name": "stderr",
     "output_type": "stream",
     "text": [
      "Removing gs://qwiklabs-gcp-04527c06d4f6cef3-bucket/volume_estimator/ch3/volume_estimator_trained/#1530336029011604...\n",
      "Removing gs://qwiklabs-gcp-04527c06d4f6cef3-bucket/volume_estimator/ch3/volume_estimator_trained/checkpoint#1530336031536858...\n",
      "Removing gs://qwiklabs-gcp-04527c06d4f6cef3-bucket/volume_estimator/ch3/volume_estimator_trained/eval/#1530335905039643...\n",
      "Removing gs://qwiklabs-gcp-04527c06d4f6cef3-bucket/volume_estimator/ch3/volume_estimator_trained/eval/events.out.tfevents.1530335905.cmle-training-master-a0a68e39e1-0-thrl8#1530336041286495...\n",
      "Removing gs://qwiklabs-gcp-04527c06d4f6cef3-bucket/volume_estimator/ch3/volume_estimator_trained/events.out.tfevents.1530335751.cmle-training-master-a0a68e39e1-0-thrl8#1530336034762482...\n",
      "Removing gs://qwiklabs-gcp-04527c06d4f6cef3-bucket/volume_estimator/ch3/volume_estimator_trained/export/#1530335908701638...\n",
      "Removing gs://qwiklabs-gcp-04527c06d4f6cef3-bucket/volume_estimator/ch3/volume_estimator_trained/export/exporter/#1530335908866074...\n",
      "Removing gs://qwiklabs-gcp-04527c06d4f6cef3-bucket/volume_estimator/ch3/volume_estimator_trained/export/exporter/1530335907/#1530335912273091...\n",
      "Removing gs://qwiklabs-gcp-04527c06d4f6cef3-bucket/volume_estimator/ch3/volume_estimator_trained/export/exporter/1530335907/saved_model.pb#1530335912422905...\n",
      "Removing gs://qwiklabs-gcp-04527c06d4f6cef3-bucket/volume_estimator/ch3/volume_estimator_trained/export/exporter/1530335907/variables/#1530335912601072...\n",
      "Removing gs://qwiklabs-gcp-04527c06d4f6cef3-bucket/volume_estimator/ch3/volume_estimator_trained/export/exporter/1530335907/variables/variables.data-00000-of-00001#1530335912762454...\n",
      "Removing gs://qwiklabs-gcp-04527c06d4f6cef3-bucket/volume_estimator/ch3/volume_estimator_trained/export/exporter/1530335907/variables/variables.index#1530335912914556...\n",
      "Removing gs://qwiklabs-gcp-04527c06d4f6cef3-bucket/volume_estimator/ch3/volume_estimator_trained/export/exporter/1530336041/#1530336045649861...\n",
      "Removing gs://qwiklabs-gcp-04527c06d4f6cef3-bucket/volume_estimator/ch3/volume_estimator_trained/export/exporter/1530336041/saved_model.pb#1530336045792551...\n",
      "Removing gs://qwiklabs-gcp-04527c06d4f6cef3-bucket/volume_estimator/ch3/volume_estimator_trained/export/exporter/1530336041/variables/#1530336045947104...\n",
      "Removing gs://qwiklabs-gcp-04527c06d4f6cef3-bucket/volume_estimator/ch3/volume_estimator_trained/export/exporter/1530336041/variables/variables.data-00000-of-00001#1530336046106755...\n",
      "Removing gs://qwiklabs-gcp-04527c06d4f6cef3-bucket/volume_estimator/ch3/volume_estimator_trained/export/exporter/1530336041/variables/variables.index#1530336046276136...\n",
      "Removing gs://qwiklabs-gcp-04527c06d4f6cef3-bucket/volume_estimator/ch3/volume_estimator_trained/graph.pbtxt#1530335891382057...\n",
      "Removing gs://qwiklabs-gcp-04527c06d4f6cef3-bucket/volume_estimator/ch3/volume_estimator_trained/model.ckpt-100006.data-00000-of-00003#1530336030321272...\n",
      "Removing gs://qwiklabs-gcp-04527c06d4f6cef3-bucket/volume_estimator/ch3/volume_estimator_trained/model.ckpt-100006.data-00001-of-00003#1530336030084022...\n",
      "Removing gs://qwiklabs-gcp-04527c06d4f6cef3-bucket/volume_estimator/ch3/volume_estimator_trained/model.ckpt-100006.data-00002-of-00003#1530336029835264...\n",
      "Removing gs://qwiklabs-gcp-04527c06d4f6cef3-bucket/volume_estimator/ch3/volume_estimator_trained/model.ckpt-100006.index#1530336030628648...\n",
      "Removing gs://qwiklabs-gcp-04527c06d4f6cef3-bucket/volume_estimator/ch3/volume_estimator_trained/model.ckpt-100006.meta#1530336032712549...\n",
      "Removing gs://qwiklabs-gcp-04527c06d4f6cef3-bucket/volume_estimator/ch3/volume_estimator_trained/model.ckpt-1205.data-00000-of-00003#1530335896864146...\n",
      "Removing gs://qwiklabs-gcp-04527c06d4f6cef3-bucket/volume_estimator/ch3/volume_estimator_trained/model.ckpt-1205.data-00001-of-00003#1530335896560854...\n",
      "Removing gs://qwiklabs-gcp-04527c06d4f6cef3-bucket/volume_estimator/ch3/volume_estimator_trained/model.ckpt-1205.data-00002-of-00003#1530335896306632...\n",
      "Removing gs://qwiklabs-gcp-04527c06d4f6cef3-bucket/volume_estimator/ch3/volume_estimator_trained/model.ckpt-1205.index#1530335897146520...\n",
      "Removing gs://qwiklabs-gcp-04527c06d4f6cef3-bucket/volume_estimator/ch3/volume_estimator_trained/model.ckpt-1205.meta#1530335899113495...\n",
      "/ [28/28 objects] 100% Done                                                     \n",
      "Operation completed over 28 objects.                                             \n",
      "Job [lab3a_180630_052152] submitted successfully.\n",
      "Your job is still active. You may view the status of your job with the command\n",
      "\n",
      "  $ gcloud ml-engine jobs describe lab3a_180630_052152\n",
      "\n",
      "or continue streaming the logs with the command\n",
      "\n",
      "  $ gcloud ml-engine jobs stream-logs lab3a_180630_052152\n",
      "Removing gs://qwiklabs-gcp-04527c06d4f6cef3-bucket/volume_estimator/ch3/volume_estimator_trained/#1530336029011604...\n",
      "Removing gs://qwiklabs-gcp-04527c06d4f6cef3-bucket/volume_estimator/ch3/volume_estimator_trained/checkpoint#1530336031536858...\n",
      "Removing gs://qwiklabs-gcp-04527c06d4f6cef3-bucket/volume_estimator/ch3/volume_estimator_trained/eval/#1530335905039643...\n",
      "Removing gs://qwiklabs-gcp-04527c06d4f6cef3-bucket/volume_estimator/ch3/volume_estimator_trained/eval/events.out.tfevents.1530335905.cmle-training-master-a0a68e39e1-0-thrl8#1530336041286495...\n",
      "Removing gs://qwiklabs-gcp-04527c06d4f6cef3-bucket/volume_estimator/ch3/volume_estimator_trained/events.out.tfevents.1530335751.cmle-training-master-a0a68e39e1-0-thrl8#1530336034762482...\n",
      "Removing gs://qwiklabs-gcp-04527c06d4f6cef3-bucket/volume_estimator/ch3/volume_estimator_trained/export/#1530335908701638...\n",
      "Removing gs://qwiklabs-gcp-04527c06d4f6cef3-bucket/volume_estimator/ch3/volume_estimator_trained/export/exporter/#1530335908866074...\n",
      "Removing gs://qwiklabs-gcp-04527c06d4f6cef3-bucket/volume_estimator/ch3/volume_estimator_trained/export/exporter/1530335907/#1530335912273091...\n",
      "Removing gs://qwiklabs-gcp-04527c06d4f6cef3-bucket/volume_estimator/ch3/volume_estimator_trained/export/exporter/1530335907/saved_model.pb#1530335912422905...\n",
      "Removing gs://qwiklabs-gcp-04527c06d4f6cef3-bucket/volume_estimator/ch3/volume_estimator_trained/export/exporter/1530335907/variables/#1530335912601072...\n",
      "Removing gs://qwiklabs-gcp-04527c06d4f6cef3-bucket/volume_estimator/ch3/volume_estimator_trained/export/exporter/1530335907/variables/variables.data-00000-of-00001#1530335912762454...\n",
      "Removing gs://qwiklabs-gcp-04527c06d4f6cef3-bucket/volume_estimator/ch3/volume_estimator_trained/export/exporter/1530335907/variables/variables.index#1530335912914556...\n",
      "Removing gs://qwiklabs-gcp-04527c06d4f6cef3-bucket/volume_estimator/ch3/volume_estimator_trained/export/exporter/1530336041/#1530336045649861...\n",
      "Removing gs://qwiklabs-gcp-04527c06d4f6cef3-bucket/volume_estimator/ch3/volume_estimator_trained/export/exporter/1530336041/saved_model.pb#1530336045792551...\n",
      "Removing gs://qwiklabs-gcp-04527c06d4f6cef3-bucket/volume_estimator/ch3/volume_estimator_trained/export/exporter/1530336041/variables/#1530336045947104...\n",
      "Removing gs://qwiklabs-gcp-04527c06d4f6cef3-bucket/volume_estimator/ch3/volume_estimator_trained/export/exporter/1530336041/variables/variables.data-00000-of-00001#1530336046106755...\n",
      "Removing gs://qwiklabs-gcp-04527c06d4f6cef3-bucket/volume_estimator/ch3/volume_estimator_trained/export/exporter/1530336041/variables/variables.index#1530336046276136...\n",
      "Removing gs://qwiklabs-gcp-04527c06d4f6cef3-bucket/volume_estimator/ch3/volume_estimator_trained/graph.pbtxt#1530335891382057...\n",
      "Removing gs://qwiklabs-gcp-04527c06d4f6cef3-bucket/volume_estimator/ch3/volume_estimator_trained/model.ckpt-100006.data-00000-of-00003#1530336030321272...\n",
      "Removing gs://qwiklabs-gcp-04527c06d4f6cef3-bucket/volume_estimator/ch3/volume_estimator_trained/model.ckpt-100006.data-00001-of-00003#1530336030084022...\n",
      "Removing gs://qwiklabs-gcp-04527c06d4f6cef3-bucket/volume_estimator/ch3/volume_estimator_trained/model.ckpt-100006.data-00002-of-00003#1530336029835264...\n",
      "Removing gs://qwiklabs-gcp-04527c06d4f6cef3-bucket/volume_estimator/ch3/volume_estimator_trained/model.ckpt-100006.index#1530336030628648...\n",
      "Removing gs://qwiklabs-gcp-04527c06d4f6cef3-bucket/volume_estimator/ch3/volume_estimator_trained/model.ckpt-100006.meta#1530336032712549...\n",
      "Removing gs://qwiklabs-gcp-04527c06d4f6cef3-bucket/volume_estimator/ch3/volume_estimator_trained/model.ckpt-1205.data-00000-of-00003#1530335896864146...\n",
      "Removing gs://qwiklabs-gcp-04527c06d4f6cef3-bucket/volume_estimator/ch3/volume_estimator_trained/model.ckpt-1205.data-00001-of-00003#1530335896560854...\n",
      "Removing gs://qwiklabs-gcp-04527c06d4f6cef3-bucket/volume_estimator/ch3/volume_estimator_trained/model.ckpt-1205.data-00002-of-00003#1530335896306632...\n",
      "Removing gs://qwiklabs-gcp-04527c06d4f6cef3-bucket/volume_estimator/ch3/volume_estimator_trained/model.ckpt-1205.index#1530335897146520...\n",
      "Removing gs://qwiklabs-gcp-04527c06d4f6cef3-bucket/volume_estimator/ch3/volume_estimator_trained/model.ckpt-1205.meta#1530335899113495...\n",
      "/ [28/28 objects] 100% Done                                                     \n",
      "Operation completed over 28 objects.                                             \n",
      "Job [lab3a_180630_052152] submitted successfully.\n",
      "Your job is still active. You may view the status of your job with the command\n",
      "\n",
      "  $ gcloud ml-engine jobs describe lab3a_180630_052152\n",
      "\n",
      "or continue streaming the logs with the command\n",
      "\n",
      "  $ gcloud ml-engine jobs stream-logs lab3a_180630_052152\n"
     ]
    }
   ],
   "source": [
    "%%bash\n",
    "\n",
    "OUTDIR=gs://${BUCKET}/volume_estimator/ch3/volume_estimator_trained\n",
    "JOBNAME=lab3a_$(date -u +%y%m%d_%H%M%S)\n",
    "CRS_BUCKET=cloud-training-demos # use the already exported data\n",
    "echo $OUTDIR $REGION $JOBNAME\n",
    "gsutil -m rm -rf $OUTDIR\n",
    "gcloud ml-engine jobs submit training $JOBNAME \\\n",
    "   --region=$REGION \\\n",
    "   --module-name=trainer.task \\\n",
    "   --package-path=${PWD}/volume_estimator/trainer \\\n",
    "   --job-dir=$OUTDIR \\\n",
    "   --staging-bucket=gs://$BUCKET \\\n",
    "   --scale-tier=STANDARD_1 \\\n",
    "   --runtime-version=$TFVERSION \\\n",
    "   -- \\\n",
    "   --output_dir=$OUTDIR \\\n",
    "   --train_steps=100000 \\\n",
    "   --train_data_size=10000000 \\\n",
    "   --eval_data_size=1000000"
   ]
  },
  {
   "cell_type": "markdown",
   "metadata": {},
   "source": [
    "<h3>Deploy model</h3>"
   ]
  },
  {
   "cell_type": "code",
   "execution_count": 18,
   "metadata": {
    "collapsed": false
   },
   "outputs": [
    {
     "name": "stderr",
     "output_type": "stream",
     "text": [
      "CommandException: One or more URLs matched no objects.\n",
      "CommandException: One or more URLs matched no objects.\n"
     ]
    }
   ],
   "source": [
    "%bash\n",
    "gsutil ls gs://${BUCKET}/volume_estimator/ch3/volume_estimator_trained/export/exporter"
   ]
  },
  {
   "cell_type": "code",
   "execution_count": 21,
   "metadata": {
    "collapsed": false
   },
   "outputs": [
    {
     "name": "stdout",
     "output_type": "stream",
     "text": [
      "Run these commands one-by-one (the very first time, you'll create a model and then create a version)\n",
      "Run these commands one-by-one (the very first time, you'll create a model and then create a version)\n"
     ]
    },
    {
     "name": "stderr",
     "output_type": "stream",
     "text": [
      "Creating version (this might take a few minutes)......\n",
      "............................................................................................done.\n",
      "Creating version (this might take a few minutes)......\n",
      "............................................................................................done.\n"
     ]
    }
   ],
   "source": [
    "%bash\n",
    "MODEL_NAME=\"volume_estimator\"\n",
    "MODEL_VERSION=\"v2\"\n",
    "MODEL_LOCATION=$(gsutil ls gs://${BUCKET}/volume_estimator/ch3/volume_estimator_trained/export/exporter | tail -1)\n",
    "echo \"Run these commands one-by-one (the very first time, you'll create a model and then create a version)\"\n",
    "#gcloud ml-engine versions delete ${MODEL_VERSION} --model ${MODEL_NAME}\n",
    "#gcloud ml-engine models delete ${MODEL_NAME}\n",
    "#gcloud ml-engine models create ${MODEL_NAME} --regions $REGION\n",
    "gcloud ml-engine versions create ${MODEL_VERSION} --model ${MODEL_NAME} --origin ${MODEL_LOCATION} --runtime-version $TFVERSION"
   ]
  },
  {
   "cell_type": "markdown",
   "metadata": {},
   "source": [
    "<h3>Predict</h3>"
   ]
  },
  {
   "cell_type": "code",
   "execution_count": null,
   "metadata": {
    "collapsed": true
   },
   "outputs": [],
   "source": [
    "%bash\n",
    "gcloud ml-engine predict --model=volume_estimator --version=v2 --json-instances=./test.json"
   ]
  },
  {
   "cell_type": "markdown",
   "metadata": {
    "deletable": true,
    "editable": true
   },
   "source": [
    "## Challenge Exercise\n",
    "\n",
    "Modify your solution to the challenge exercise in d_trainandevaluate.ipynb appropriately. Make sure that you implement training and deployment. Increase the size of your dataset by 10x since you are running on the cloud. Does your accuracy improve?"
   ]
  },
  {
   "cell_type": "markdown",
   "metadata": {
    "deletable": true,
    "editable": true
   },
   "source": [
    "Copyright 2016 Google Inc. Licensed under the Apache License, Version 2.0 (the \"License\"); you may not use this file except in compliance with the License. You may obtain a copy of the License at http://www.apache.org/licenses/LICENSE-2.0 Unless required by applicable law or agreed to in writing, software distributed under the License is distributed on an \"AS IS\" BASIS, WITHOUT WARRANTIES OR CONDITIONS OF ANY KIND, either express or implied. See the License for the specific language governing permissions and limitations under the License"
   ]
  }
 ],
 "metadata": {
  "kernelspec": {
   "display_name": "Python 2",
   "language": "python",
   "name": "python2"
  },
  "language_info": {
   "codemirror_mode": {
    "name": "ipython",
    "version": 2
   },
   "file_extension": ".py",
   "mimetype": "text/x-python",
   "name": "python",
   "nbconvert_exporter": "python",
   "pygments_lexer": "ipython2",
   "version": "2.7.15"
  }
 },
 "nbformat": 4,
 "nbformat_minor": 0
}
